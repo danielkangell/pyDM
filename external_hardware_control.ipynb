{
 "cells": [
  {
   "cell_type": "code",
   "execution_count": 1,
   "metadata": {},
   "outputs": [],
   "source": [
    "from ctypes import *\n",
    "import time\n",
    "import os\n",
    "import sys\n",
    "import tempfile \n",
    "import re\n",
    "from socket import socket, gethostbyname, AF_INET, SOCK_DGRAM\n",
    "import numpy as np"
   ]
  },
  {
   "cell_type": "code",
   "execution_count": 3,
   "metadata": {},
   "outputs": [],
   "source": [
    "class network_interface(object):\n",
    "    def __init__(self,partner_ip='<Gatan computer IP>',send_port=2567,receive_port=2568):\n",
    "        self.partner_ip = partner_ip\n",
    "        self.send_port = send_port\n",
    "        self.receive_port = receive_port\n",
    "        self.here = gethostbyname( '0.0.0.0' ) # for receiving\n",
    "        self.send_socket = socket( AF_INET, SOCK_DGRAM )\n",
    "        self.receive_socket = socket( AF_INET, SOCK_DGRAM )\n",
    "        self.receive_socket.bind( (self.here, self.receive_port) )\n",
    "        print (\"Sending scripts to IP {0}, via port {1}\\n\".format(partner_ip, self.send_port))\n",
    "\n",
    "def send_and_wait(script,interface,SIZE=1024):\n",
    "    interface.send_socket.sendto(script,(interface.partner_ip,interface.send_port))\n",
    "    print('Script sent.')\n",
    "    (success,addr) = interface.receive_socket.recvfrom(SIZE)\n",
    "    if(int(success) == 0):\n",
    "        print('Script completed successfully.')\n",
    "        return int(success)\n",
    "    elif(int(success) == 1):\n",
    "        print('Script is too long. Reduce size and try again. (See server for printout of max script size.)')\n",
    "        return int(success)\n",
    "    else:\n",
    "        print('Received from Digital Micrograph: {}'.format(str(success)))\n",
    "        raise Exception('Either script failed or there is a communication error.')  "
   ]
  },
  {
   "cell_type": "code",
   "execution_count": 7,
   "metadata": {},
   "outputs": [
    {
     "name": "stdout",
     "output_type": "stream",
     "text": [
      "Sending scripts to IP 134.76.90.104, via port 2567\n",
      "\n"
     ]
    }
   ],
   "source": [
    "in1 = network_interface() # connect to Gatan computer"
   ]
  },
  {
   "cell_type": "code",
   "execution_count": 8,
   "metadata": {},
   "outputs": [],
   "source": [
    "data_folder = '\\\\\\\\<Gatan computer local network name>\\\\<External_Data_Drive>\\\\<Username>\\\\' # filepath as seen from external hardware computer; \n",
    "data_folder_DM = 'E:\\\\\\\\<Username>\\\\\\\\' # filepath as seen from Gatan computer\n",
    "base_name = 'date_experimentname'\n",
    "sample = 'sample'\n",
    "option = 'option'\n",
    "if( not os.path.isdir(data_folder+base_name) ):\n",
    "    os.mkdir(data_folder+base_name)\n",
    "if( not os.path.isdir(data_folder+base_name+'\\\\'+sample) ):\n",
    "    os.mkdir(data_folder+base_name+'\\\\'+sample)\n",
    "if( not os.path.isdir(data_folder+base_name+'\\\\'+sample+'\\\\'+option) ):\n",
    "    os.mkdir(data_folder+base_name+'\\\\'+sample+'\\\\'+option)\n",
    "basedir = data_folder+base_name+'\\\\'+sample+'\\\\'+option\n",
    "basedir_DM = data_folder_DM+base_name+'\\\\\\\\'+sample+'\\\\\\\\'+option"
   ]
  },
  {
   "cell_type": "code",
   "execution_count": 10,
   "metadata": {},
   "outputs": [],
   "source": [
    "# requirements for use:\n",
    "# - Valid survey image and ROI already assigned\n",
    "# -  SI array size already defined\n",
    "# -  Signals and other SI settings made\n",
    "dm_script = '''\n",
    "// Set Save folder\n",
    "string saveFolder = %s\n",
    "string tagPath = \"SI:Acquisition:Preferences:Save:Group Save Preferences:Base folder\"\n",
    "GetPersistentTagGroup().TagGroupSetTagAsString(tagPath,saveFolder)\n",
    "\n",
    "// Start SI\n",
    "number nSI = %d\n",
    "for (number i=0; i<nSI; i++ )\n",
    "{\n",
    "    SIInvokeButton( \"Start/Stop\", 1 )\n",
    "    while(SIIsAcquisitionActive()) yield()\n",
    "    sleep(0.5)          // Small delay needed to allow DM finish SI acquisition clean-up\n",
    "}\n",
    "'''"
   ]
  }
 ],
 "metadata": {
  "kernelspec": {
   "display_name": "Python 3",
   "language": "python",
   "name": "python3"
  },
  "language_info": {
   "codemirror_mode": {
    "name": "ipython",
    "version": 3
   },
   "file_extension": ".py",
   "mimetype": "text/x-python",
   "name": "python",
   "nbconvert_exporter": "python",
   "pygments_lexer": "ipython3",
   "version": "3.5.3"
  }
 },
 "nbformat": 4,
 "nbformat_minor": 2
}
